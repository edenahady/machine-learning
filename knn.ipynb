{
  "metadata": {
    "kernelspec": {
      "display_name": "Python 3",
      "language": "python",
      "name": "python3"
    },
    "language_info": {
      "name": "python",
      "version": "3.6.5",
      "mimetype": "text/x-python",
      "codemirror_mode": {
        "name": "ipython",
        "version": 3
      },
      "pygments_lexer": "ipython3",
      "nbconvert_exporter": "python",
      "file_extension": ".py"
    },
    "colab": {
      "provenance": [],
      "collapsed_sections": []
    },
    "widgets": {
      "application/vnd.jupyter.widget-state+json": {
        "211212a2ab5f46da9bebeffa05d002a4": {
          "model_module": "@jupyter-widgets/controls",
          "model_name": "HBoxModel",
          "model_module_version": "1.5.0",
          "state": {
            "_dom_classes": [],
            "_model_module": "@jupyter-widgets/controls",
            "_model_module_version": "1.5.0",
            "_model_name": "HBoxModel",
            "_view_count": null,
            "_view_module": "@jupyter-widgets/controls",
            "_view_module_version": "1.5.0",
            "_view_name": "HBoxView",
            "box_style": "",
            "children": [
              "IPY_MODEL_deda85f5f0184b8aacdaa4c013ce9712",
              "IPY_MODEL_1b00302bd54f4c04b5d70286f82adbda",
              "IPY_MODEL_59de3190e58a432a87550cf22f179eab"
            ],
            "layout": "IPY_MODEL_b3443057fe3e466fbb41fd4ebf5d1640"
          }
        },
        "deda85f5f0184b8aacdaa4c013ce9712": {
          "model_module": "@jupyter-widgets/controls",
          "model_name": "HTMLModel",
          "model_module_version": "1.5.0",
          "state": {
            "_dom_classes": [],
            "_model_module": "@jupyter-widgets/controls",
            "_model_module_version": "1.5.0",
            "_model_name": "HTMLModel",
            "_view_count": null,
            "_view_module": "@jupyter-widgets/controls",
            "_view_module_version": "1.5.0",
            "_view_name": "HTMLView",
            "description": "",
            "description_tooltip": null,
            "layout": "IPY_MODEL_e76cf7f4ccd84471a197f710593d4f7b",
            "placeholder": "​",
            "style": "IPY_MODEL_e07a40407331424e9b8fc114432b0742",
            "value": "100%"
          }
        },
        "1b00302bd54f4c04b5d70286f82adbda": {
          "model_module": "@jupyter-widgets/controls",
          "model_name": "FloatProgressModel",
          "model_module_version": "1.5.0",
          "state": {
            "_dom_classes": [],
            "_model_module": "@jupyter-widgets/controls",
            "_model_module_version": "1.5.0",
            "_model_name": "FloatProgressModel",
            "_view_count": null,
            "_view_module": "@jupyter-widgets/controls",
            "_view_module_version": "1.5.0",
            "_view_name": "ProgressView",
            "bar_style": "success",
            "description": "",
            "description_tooltip": null,
            "layout": "IPY_MODEL_d0079d2eaeda409ab58b8449075dc691",
            "max": 170498071,
            "min": 0,
            "orientation": "horizontal",
            "style": "IPY_MODEL_8bd08c5279a24d1bbc77c8f9a930954c",
            "value": 170498071
          }
        },
        "59de3190e58a432a87550cf22f179eab": {
          "model_module": "@jupyter-widgets/controls",
          "model_name": "HTMLModel",
          "model_module_version": "1.5.0",
          "state": {
            "_dom_classes": [],
            "_model_module": "@jupyter-widgets/controls",
            "_model_module_version": "1.5.0",
            "_model_name": "HTMLModel",
            "_view_count": null,
            "_view_module": "@jupyter-widgets/controls",
            "_view_module_version": "1.5.0",
            "_view_name": "HTMLView",
            "description": "",
            "description_tooltip": null,
            "layout": "IPY_MODEL_3182d6185ff44027b9687678ca1ce34f",
            "placeholder": "​",
            "style": "IPY_MODEL_576286c128d54d698cc791eadc4a4169",
            "value": " 170498071/170498071 [00:02&lt;00:00, 82402763.08it/s]"
          }
        },
        "b3443057fe3e466fbb41fd4ebf5d1640": {
          "model_module": "@jupyter-widgets/base",
          "model_name": "LayoutModel",
          "model_module_version": "1.2.0",
          "state": {
            "_model_module": "@jupyter-widgets/base",
            "_model_module_version": "1.2.0",
            "_model_name": "LayoutModel",
            "_view_count": null,
            "_view_module": "@jupyter-widgets/base",
            "_view_module_version": "1.2.0",
            "_view_name": "LayoutView",
            "align_content": null,
            "align_items": null,
            "align_self": null,
            "border": null,
            "bottom": null,
            "display": null,
            "flex": null,
            "flex_flow": null,
            "grid_area": null,
            "grid_auto_columns": null,
            "grid_auto_flow": null,
            "grid_auto_rows": null,
            "grid_column": null,
            "grid_gap": null,
            "grid_row": null,
            "grid_template_areas": null,
            "grid_template_columns": null,
            "grid_template_rows": null,
            "height": null,
            "justify_content": null,
            "justify_items": null,
            "left": null,
            "margin": null,
            "max_height": null,
            "max_width": null,
            "min_height": null,
            "min_width": null,
            "object_fit": null,
            "object_position": null,
            "order": null,
            "overflow": null,
            "overflow_x": null,
            "overflow_y": null,
            "padding": null,
            "right": null,
            "top": null,
            "visibility": null,
            "width": null
          }
        },
        "e76cf7f4ccd84471a197f710593d4f7b": {
          "model_module": "@jupyter-widgets/base",
          "model_name": "LayoutModel",
          "model_module_version": "1.2.0",
          "state": {
            "_model_module": "@jupyter-widgets/base",
            "_model_module_version": "1.2.0",
            "_model_name": "LayoutModel",
            "_view_count": null,
            "_view_module": "@jupyter-widgets/base",
            "_view_module_version": "1.2.0",
            "_view_name": "LayoutView",
            "align_content": null,
            "align_items": null,
            "align_self": null,
            "border": null,
            "bottom": null,
            "display": null,
            "flex": null,
            "flex_flow": null,
            "grid_area": null,
            "grid_auto_columns": null,
            "grid_auto_flow": null,
            "grid_auto_rows": null,
            "grid_column": null,
            "grid_gap": null,
            "grid_row": null,
            "grid_template_areas": null,
            "grid_template_columns": null,
            "grid_template_rows": null,
            "height": null,
            "justify_content": null,
            "justify_items": null,
            "left": null,
            "margin": null,
            "max_height": null,
            "max_width": null,
            "min_height": null,
            "min_width": null,
            "object_fit": null,
            "object_position": null,
            "order": null,
            "overflow": null,
            "overflow_x": null,
            "overflow_y": null,
            "padding": null,
            "right": null,
            "top": null,
            "visibility": null,
            "width": null
          }
        },
        "e07a40407331424e9b8fc114432b0742": {
          "model_module": "@jupyter-widgets/controls",
          "model_name": "DescriptionStyleModel",
          "model_module_version": "1.5.0",
          "state": {
            "_model_module": "@jupyter-widgets/controls",
            "_model_module_version": "1.5.0",
            "_model_name": "DescriptionStyleModel",
            "_view_count": null,
            "_view_module": "@jupyter-widgets/base",
            "_view_module_version": "1.2.0",
            "_view_name": "StyleView",
            "description_width": ""
          }
        },
        "d0079d2eaeda409ab58b8449075dc691": {
          "model_module": "@jupyter-widgets/base",
          "model_name": "LayoutModel",
          "model_module_version": "1.2.0",
          "state": {
            "_model_module": "@jupyter-widgets/base",
            "_model_module_version": "1.2.0",
            "_model_name": "LayoutModel",
            "_view_count": null,
            "_view_module": "@jupyter-widgets/base",
            "_view_module_version": "1.2.0",
            "_view_name": "LayoutView",
            "align_content": null,
            "align_items": null,
            "align_self": null,
            "border": null,
            "bottom": null,
            "display": null,
            "flex": null,
            "flex_flow": null,
            "grid_area": null,
            "grid_auto_columns": null,
            "grid_auto_flow": null,
            "grid_auto_rows": null,
            "grid_column": null,
            "grid_gap": null,
            "grid_row": null,
            "grid_template_areas": null,
            "grid_template_columns": null,
            "grid_template_rows": null,
            "height": null,
            "justify_content": null,
            "justify_items": null,
            "left": null,
            "margin": null,
            "max_height": null,
            "max_width": null,
            "min_height": null,
            "min_width": null,
            "object_fit": null,
            "object_position": null,
            "order": null,
            "overflow": null,
            "overflow_x": null,
            "overflow_y": null,
            "padding": null,
            "right": null,
            "top": null,
            "visibility": null,
            "width": null
          }
        },
        "8bd08c5279a24d1bbc77c8f9a930954c": {
          "model_module": "@jupyter-widgets/controls",
          "model_name": "ProgressStyleModel",
          "model_module_version": "1.5.0",
          "state": {
            "_model_module": "@jupyter-widgets/controls",
            "_model_module_version": "1.5.0",
            "_model_name": "ProgressStyleModel",
            "_view_count": null,
            "_view_module": "@jupyter-widgets/base",
            "_view_module_version": "1.2.0",
            "_view_name": "StyleView",
            "bar_color": null,
            "description_width": ""
          }
        },
        "3182d6185ff44027b9687678ca1ce34f": {
          "model_module": "@jupyter-widgets/base",
          "model_name": "LayoutModel",
          "model_module_version": "1.2.0",
          "state": {
            "_model_module": "@jupyter-widgets/base",
            "_model_module_version": "1.2.0",
            "_model_name": "LayoutModel",
            "_view_count": null,
            "_view_module": "@jupyter-widgets/base",
            "_view_module_version": "1.2.0",
            "_view_name": "LayoutView",
            "align_content": null,
            "align_items": null,
            "align_self": null,
            "border": null,
            "bottom": null,
            "display": null,
            "flex": null,
            "flex_flow": null,
            "grid_area": null,
            "grid_auto_columns": null,
            "grid_auto_flow": null,
            "grid_auto_rows": null,
            "grid_column": null,
            "grid_gap": null,
            "grid_row": null,
            "grid_template_areas": null,
            "grid_template_columns": null,
            "grid_template_rows": null,
            "height": null,
            "justify_content": null,
            "justify_items": null,
            "left": null,
            "margin": null,
            "max_height": null,
            "max_width": null,
            "min_height": null,
            "min_width": null,
            "object_fit": null,
            "object_position": null,
            "order": null,
            "overflow": null,
            "overflow_x": null,
            "overflow_y": null,
            "padding": null,
            "right": null,
            "top": null,
            "visibility": null,
            "width": null
          }
        },
        "576286c128d54d698cc791eadc4a4169": {
          "model_module": "@jupyter-widgets/controls",
          "model_name": "DescriptionStyleModel",
          "model_module_version": "1.5.0",
          "state": {
            "_model_module": "@jupyter-widgets/controls",
            "_model_module_version": "1.5.0",
            "_model_name": "DescriptionStyleModel",
            "_view_count": null,
            "_view_module": "@jupyter-widgets/base",
            "_view_module_version": "1.2.0",
            "_view_name": "StyleView",
            "description_width": ""
          }
        }
      }
    }
  },
  "nbformat_minor": 0,
  "nbformat": 4,
  "cells": [
    {
      "cell_type": "markdown",
      "source": [
        "<h1><center><b>Machine Learning</></center></h1>\n",
        "<h4><center>89-511</center></h4>\n",
        "<h3><center>Exercise 1 - Practical Part</center></h3>"
      ],
      "metadata": {
        "id": "FnIE9WTOfS1l"
      }
    },
    {
      "cell_type": "markdown",
      "source": [],
      "metadata": {
        "id": "LdMQDFvZLQ6x"
      }
    },
    {
      "cell_type": "code",
      "source": [],
      "metadata": {
        "id": "3Rp4GoC9LRR_"
      },
      "execution_count": null,
      "outputs": []
    },
    {
      "cell_type": "markdown",
      "source": [
        "Your Name:  \n",
        "<font color='red'>\n",
        "FirstName1 LastName1, 123456789   \n",
        "</font>\n"
      ],
      "metadata": {
        "id": "E89lXXfbfXHm"
      }
    },
    {
      "cell_type": "markdown",
      "source": [
        "Eden Ahady 318948106"
      ],
      "metadata": {
        "id": "3lYBy6xqfjeZ"
      }
    },
    {
      "cell_type": "markdown",
      "source": [
        "In this exercise we will learn to:\n",
        "1. Load and prepare datasets.\n",
        "2. Implement KNN algorithm."
      ],
      "metadata": {
        "id": "MQHH33U_fcfO"
      }
    },
    {
      "cell_type": "markdown",
      "source": [
        "**Instructions:**\n",
        "- Create a copy of this notebook and implement your code in it.\n",
        "- Make sure all the cells run without errors.\n",
        "- When you finish the assignment, download the notebook and submit it and your pdf file to the **\"submit\"** system. \n",
        "To Download the notebook go to **\"File\"** -> **\"Download .ipynb\"**.  \n",
        "\n",
        "\n",
        "\n",
        "If you have questions, please ask at the forum on moodle.\n",
        "\n",
        "Personal requests please send to TA emails."
      ],
      "metadata": {
        "id": "NJMv-ROefl8X"
      }
    },
    {
      "cell_type": "markdown",
      "source": [
        "### **1. Introduction to Colab and Numpy**"
      ],
      "metadata": {
        "id": "4GQhuPnKGMDv"
      }
    },
    {
      "cell_type": "markdown",
      "source": [
        "We use the Python programming language for all assignments in this course with the help of popular packages (like numpy, matplotlib, sklearn, scipy and pytorch)."
      ],
      "metadata": {
        "id": "aEUfaBxEGPYv"
      }
    },
    {
      "cell_type": "markdown",
      "source": [
        "Go over this **[numpy tutorial](https://numpy.org/doc/stable/user/quickstart.html)** or this **[tutorial](https://cs231n.github.io/python-numpy-tutorial/)** before starting this assignment and **[this notebook](https://colab.research.google.com/github/cs231n/cs231n.github.io/blob/master/python-colab.ipynb)** to understand how to work with basic packages and with Google Colab. It is important to go over them before starting this assignment."
      ],
      "metadata": {
        "id": "w3J-LD1JGRnz"
      }
    },
    {
      "cell_type": "code",
      "source": [
        "import numpy as np # linear algebra\n",
        "import matplotlib.pyplot as plt\n",
        "%matplotlib inline"
      ],
      "metadata": {
        "_uuid": "8f2839f25d086af736a60e9eeb907d3b93b6e0e5",
        "_cell_guid": "b1076dfc-b9ad-4769-8c92-a6c4dae69d19",
        "collapsed": true,
        "jupyter": {
          "outputs_hidden": true
        },
        "trusted": true,
        "id": "UrvjGAig6ZVz"
      },
      "execution_count": null,
      "outputs": []
    },
    {
      "cell_type": "markdown",
      "source": [
        "Play with NumPy here:"
      ],
      "metadata": {
        "id": "txhZN0oi_sN7"
      }
    },
    {
      "cell_type": "code",
      "source": [
        "x = np.array([1,2,3])\n",
        "y = np.array([4,5,6])\n",
        "x, y"
      ],
      "metadata": {
        "colab": {
          "base_uri": "https://localhost:8080/"
        },
        "id": "PX_F6QmR_w6k",
        "outputId": "b1bd56e8-7454-48be-9ad2-a022cc0bb2bf"
      },
      "execution_count": null,
      "outputs": [
        {
          "output_type": "execute_result",
          "data": {
            "text/plain": [
              "(array([1, 2, 3]), array([4, 5, 6]))"
            ]
          },
          "metadata": {},
          "execution_count": 18
        }
      ]
    },
    {
      "cell_type": "markdown",
      "source": [
        "Pay attention: with NumPy, you can sum vectors in one line, you don't have to iterate over the elements."
      ],
      "metadata": {
        "id": "Bb9L0pZOAniX"
      }
    },
    {
      "cell_type": "code",
      "source": [
        "x + y\n",
        "# x - y\n",
        "# x * y\n",
        "# x**2\n",
        "# (x - y)**2"
      ],
      "metadata": {
        "colab": {
          "base_uri": "https://localhost:8080/"
        },
        "id": "kNef8D0O_3Yp",
        "outputId": "ce79ed65-c568-4f9a-e326-73c78d8ee1d4"
      },
      "execution_count": null,
      "outputs": [
        {
          "output_type": "execute_result",
          "data": {
            "text/plain": [
              "array([5, 7, 9])"
            ]
          },
          "metadata": {},
          "execution_count": 19
        }
      ]
    },
    {
      "cell_type": "code",
      "source": [
        "np.sum(x)\n",
        "# np.mean(x)\n",
        "np.sqrt(x)"
      ],
      "metadata": {
        "colab": {
          "base_uri": "https://localhost:8080/"
        },
        "id": "HDHXT8erBjrB",
        "outputId": "517409d4-14e7-4a3f-f093-c406bc9db0ca"
      },
      "execution_count": null,
      "outputs": [
        {
          "output_type": "execute_result",
          "data": {
            "text/plain": [
              "array([1.        , 1.41421356, 1.73205081])"
            ]
          },
          "metadata": {},
          "execution_count": 20
        }
      ]
    },
    {
      "cell_type": "markdown",
      "source": [
        "### **2. Data**"
      ],
      "metadata": {
        "id": "RFeWSRKXGYwt"
      }
    },
    {
      "cell_type": "markdown",
      "source": [
        "##Data\n",
        "We'll use CIFAR10 dataset.\n",
        "It is a very familiar dataset. Please read a little bit [here](https://www.cs.toronto.edu/~kriz/cifar.html).\n",
        "\n",
        "To import the dataset, we'll use the torch library. Don't dig about this library now, we will learn about it better in the next weeks."
      ],
      "metadata": {
        "id": "OxJ5oDEYBfzx"
      }
    },
    {
      "cell_type": "code",
      "source": [
        "import torch\n",
        "from torchvision import datasets,transforms\n",
        "import torchvision"
      ],
      "metadata": {
        "id": "duNdiOxThkGX"
      },
      "execution_count": null,
      "outputs": []
    },
    {
      "cell_type": "code",
      "source": [
        "######################################################\n",
        "##   Don't change this cell. Use it as a black box  ##\n",
        "######################################################\n",
        "\n",
        "transform = transforms.Compose(\n",
        "    [transforms.ToTensor(),\n",
        "     ])\n",
        "\n",
        "trainset = torchvision.datasets.CIFAR10(root='./data', train=True,\n",
        "                                        download=True, transform=transform)\n",
        "trainloader = torch.utils.data.DataLoader(trainset, batch_size=100,\n",
        "                                          shuffle=True, num_workers=1)\n",
        "\n",
        "testset = torchvision.datasets.CIFAR10(root='./data', train=False,\n",
        "                                       download=True, transform=transform)\n",
        "testloader = torch.utils.data.DataLoader(testset, batch_size=10,\n",
        "                                         shuffle=False, num_workers=1)\n",
        "\n",
        "# CIFAR10 labels:\n",
        "classes = ('plane', 'car', 'bird', 'cat',\n",
        "           'deer', 'dog', 'frog', 'horse', 'ship', 'truck')"
      ],
      "metadata": {
        "id": "l3oDm59FhrLf",
        "colab": {
          "base_uri": "https://localhost:8080/",
          "height": 101,
          "referenced_widgets": [
            "211212a2ab5f46da9bebeffa05d002a4",
            "deda85f5f0184b8aacdaa4c013ce9712",
            "1b00302bd54f4c04b5d70286f82adbda",
            "59de3190e58a432a87550cf22f179eab",
            "b3443057fe3e466fbb41fd4ebf5d1640",
            "e76cf7f4ccd84471a197f710593d4f7b",
            "e07a40407331424e9b8fc114432b0742",
            "d0079d2eaeda409ab58b8449075dc691",
            "8bd08c5279a24d1bbc77c8f9a930954c",
            "3182d6185ff44027b9687678ca1ce34f",
            "576286c128d54d698cc791eadc4a4169"
          ]
        },
        "outputId": "c1b03767-816e-4d40-8db3-7a770227d023"
      },
      "execution_count": null,
      "outputs": [
        {
          "output_type": "stream",
          "name": "stdout",
          "text": [
            "Downloading https://www.cs.toronto.edu/~kriz/cifar-10-python.tar.gz to ./data/cifar-10-python.tar.gz\n"
          ]
        },
        {
          "output_type": "display_data",
          "data": {
            "text/plain": [
              "  0%|          | 0/170498071 [00:00<?, ?it/s]"
            ],
            "application/vnd.jupyter.widget-view+json": {
              "version_major": 2,
              "version_minor": 0,
              "model_id": "211212a2ab5f46da9bebeffa05d002a4"
            }
          },
          "metadata": {}
        },
        {
          "output_type": "stream",
          "name": "stdout",
          "text": [
            "Extracting ./data/cifar-10-python.tar.gz to ./data\n",
            "Files already downloaded and verified\n"
          ]
        }
      ]
    },
    {
      "cell_type": "markdown",
      "source": [
        "Let's see a few images with their labels"
      ],
      "metadata": {
        "id": "mmmmXVkzCT_e"
      }
    },
    {
      "cell_type": "code",
      "source": [
        "# functions to show an image\n",
        "def imshow(img):\n",
        "    img = img / 2 + 0.5     # unnormalize\n",
        "    npimg = img.numpy()\n",
        "    plt.imshow(np.transpose(npimg, (1, 2, 0)))\n",
        "    plt.show()\n",
        "\n",
        "\n",
        "# get some random training images\n",
        "dataiter = iter(trainloader)\n",
        "images, labels = dataiter.next()\n",
        "\n",
        "testiter = iter(testloader)\n",
        "test_images, test_labels = dataiter.next()\n",
        "\n",
        "# show images\n",
        "imshow(torchvision.utils.make_grid(images[:6]))\n",
        "# print labels\n",
        "print(' '.join('%5s' % classes[labels[j]] for j in range(6)))"
      ],
      "metadata": {
        "id": "pe-chMNui1-G",
        "colab": {
          "base_uri": "https://localhost:8080/",
          "height": 127
        },
        "outputId": "5aa6a493-24b9-4fc9-deb2-80c529423117"
      },
      "execution_count": null,
      "outputs": [
        {
          "output_type": "display_data",
          "data": {
            "text/plain": [
              "<Figure size 432x288 with 1 Axes>"
            ],
            "image/png": "[encoded data removed]"
          },
          "metadata": {
            "needs_background": "light"
          }
        },
        {
          "output_type": "stream",
          "name": "stdout",
          "text": [
            "horse truck  ship  frog truck plane\n"
          ]
        }
      ]
    },
    {
      "cell_type": "markdown",
      "source": [
        "Each image is represented as a RGB image.\n",
        "each pixel has a number between 0 and 1 on each dimension."
      ],
      "metadata": {
        "id": "E7WnAEEPjshc"
      }
    },
    {
      "cell_type": "code",
      "source": [
        "images[0], images[0].size()"
      ],
      "metadata": {
        "id": "FM1kkK1jjo7q",
        "colab": {
          "base_uri": "https://localhost:8080/"
        },
        "outputId": "2b80918b-81f9-47a5-c956-7b3203aa886a"
      },
      "execution_count": null,
      "outputs": [
        {
          "output_type": "execute_result",
          "data": {
            "text/plain": [
              "(tensor([[[0.6314, 0.6392, 0.6157,  ..., 0.5765, 0.3569, 0.3569],\n",
              "          [0.6039, 0.6196, 0.6078,  ..., 0.7647, 0.5961, 0.4824],\n",
              "          [0.6745, 0.6863, 0.6392,  ..., 0.7569, 0.7647, 0.6549],\n",
              "          ...,\n",
              "          [0.6118, 0.5647, 0.5529,  ..., 0.6275, 0.5725, 0.5882],\n",
              "          [0.5373, 0.5608, 0.5804,  ..., 0.6235, 0.5961, 0.6000],\n",
              "          [0.4941, 0.5137, 0.4980,  ..., 0.5216, 0.5255, 0.6078]],\n",
              " \n",
              "         [[0.6471, 0.6510, 0.6431,  ..., 0.5843, 0.3804, 0.3882],\n",
              "          [0.6157, 0.6353, 0.6314,  ..., 0.7294, 0.5804, 0.4941],\n",
              "          [0.6824, 0.6941, 0.6392,  ..., 0.7255, 0.7490, 0.6667],\n",
              "          ...,\n",
              "          [0.6314, 0.5804, 0.5647,  ..., 0.6353, 0.6000, 0.6275],\n",
              "          [0.5647, 0.5804, 0.5922,  ..., 0.6392, 0.6353, 0.6431],\n",
              "          [0.5294, 0.5412, 0.5176,  ..., 0.5647, 0.5725, 0.6392]],\n",
              " \n",
              "         [[0.3843, 0.4000, 0.4000,  ..., 0.3882, 0.2392, 0.2706],\n",
              "          [0.4000, 0.4078, 0.3922,  ..., 0.5451, 0.4196, 0.3333],\n",
              "          [0.5529, 0.5490, 0.4863,  ..., 0.5725, 0.5725, 0.4510],\n",
              "          ...,\n",
              "          [0.3961, 0.3490, 0.3373,  ..., 0.4118, 0.3686, 0.3882],\n",
              "          [0.3412, 0.3569, 0.3765,  ..., 0.4078, 0.3961, 0.4000],\n",
              "          [0.3216, 0.3373, 0.3176,  ..., 0.3216, 0.3333, 0.4078]]]),\n",
              " torch.Size([3, 32, 32]))"
            ]
          },
          "metadata": {},
          "execution_count": 24
        }
      ]
    },
    {
      "cell_type": "markdown",
      "source": [
        "CIFAR is a big datadset, let's use only 100 images and convert them to numpy arrays"
      ],
      "metadata": {
        "_uuid": "29047fa0bda44ed0a1585111f3d6f8ff59d4874a",
        "id": "qDAXwa4F6ZWT"
      }
    },
    {
      "cell_type": "markdown",
      "source": [
        "#### Train Set"
      ],
      "metadata": {
        "id": "ET8mhNueCeFj"
      }
    },
    {
      "cell_type": "code",
      "source": [
        "x_train = np.array(images)\n",
        "y_train = np.array(labels)"
      ],
      "metadata": {
        "id": "tgnGJ0D2k0To"
      },
      "execution_count": null,
      "outputs": []
    },
    {
      "cell_type": "code",
      "source": [
        "x_train.shape, y_train.shape"
      ],
      "metadata": {
        "_uuid": "6afd808eb483954449df900735458dc3fac2c872",
        "trusted": true,
        "id": "4XE9nvkA6ZWU",
        "colab": {
          "base_uri": "https://localhost:8080/"
        },
        "outputId": "8a368e95-b586-473e-cfeb-787dfe09e19e"
      },
      "execution_count": null,
      "outputs": [
        {
          "output_type": "execute_result",
          "data": {
            "text/plain": [
              "((100, 3, 32, 32), (100,))"
            ]
          },
          "metadata": {},
          "execution_count": 26
        }
      ]
    },
    {
      "cell_type": "markdown",
      "source": [
        "#### Test Set"
      ],
      "metadata": {
        "_uuid": "a3481050ff75eb36c89117cf7fd57479c047649d",
        "id": "ju_se3Sk6ZWV"
      }
    },
    {
      "cell_type": "code",
      "source": [
        "x_test = np.array(test_images)\n",
        "y_test = np.array(test_labels)\n",
        "x_test.shape, y_test.shape"
      ],
      "metadata": {
        "_uuid": "ebbf24c127217ef8799a02a146eb97de17f0e064",
        "collapsed": true,
        "jupyter": {
          "outputs_hidden": true
        },
        "trusted": true,
        "id": "StHT3jMF6ZWX",
        "colab": {
          "base_uri": "https://localhost:8080/"
        },
        "outputId": "138dcd04-f481-4e98-84e3-c579a5740a3b"
      },
      "execution_count": null,
      "outputs": [
        {
          "output_type": "execute_result",
          "data": {
            "text/plain": [
              "((100, 3, 32, 32), (100,))"
            ]
          },
          "metadata": {},
          "execution_count": 88
        }
      ]
    },
    {
      "cell_type": "markdown",
      "source": [
        "### **3. KNN**"
      ],
      "metadata": {
        "id": "dn6LYfAS710-"
      }
    },
    {
      "cell_type": "markdown",
      "source": [
        "First of all, let's implement euclidean distance function, so we will be able to calculate closeness between images.\n",
        "\n",
        "**A reminder**: the euclidean distance formula is:\n",
        "\n",
        "![image.png](data:image/png;base64,iVBORw0KGgoAAAANSUhEUgAAAMgAAAAzCAYAAADSDUdEAAAAAXNSR0IArs4c6QAAAARnQU1BAACxjwv8YQUAAAAJcEhZcwAADsMAAA7DAcdvqGQAAAf7SURBVHhe7Zy7r01NFMDnfj2Ckig8CiGReEdQKNxEJwoKhUQhVycRxCMKgsuNziuhJhGlZ0FBBEEIovCIKFTe/oD77d+cWb65+87M3mefs8/jfuuXTPae2Xuea9bMmpmzz8BohlEUJcg/7qooSgBVEEVJoAqiKAlUQRQlgSqIoiRQBVGUBKogipJAFURREqiCKEoCPUmvmQcPHpg1a9Y4n9IrlO32OoPUzO/fv83g4KAViLrecWVRBamZ169fm3Xr1jmf0m+ogihKAlWQmnn+/LmZNWuW8yn9hipIzfz8+dPMnDnT+ZR+QxWkZr59++bulH5Et3lrZmBgoKldE6W30BlEURKogtTIy5cvzZw5c5xP6UdUQWrkz58/Zu7cuc6ndJobN26YZcuWWTMXOTBgNUtlBWHxSca4K1euuND/+Pjxo9m5c6c5cOCAC6mXCxcu2PzIt1fgFL0KtCftioBPnjxppk2bZgWNgBG0PKtKp2VTF0Uy37p1q7l48aL5+vWrbbe9e/e6J03AIr0q169fZ/U5+uLFCxfSAH9mWozev3/fhXQG8iPffHm6xfDwsHXC+fPnbXvFHOXPhDl6+fJlG4+6cP/hwwf7fHBw0D7nSlpV6JZs6qKszGnPzZs3O195WlIQCjd16lTna4AACeuWAGgo8qdTdZu8gtA2CHPp0qUupAFKIAoiIEyJK+1MfCB+lfbttmzqoozMGVSqDJwtKQgCJGOfoaGhcWGdhjLgug1loPP7ICSUYf/+/S6kQX5UR+AiUGYLqY908ir0gmzqIiVzwrF2qtCUgiAoBCnTPSOZP0ICwst3CiAuz0RAxMPvd4QiGCEYWcmfeKSZH41BTD8ZcbsFdQ2N1tSd8vlCow2kvKJEAnUWk4r0SJd3mp0JQrKhTUmP/EiPdMUf63B1ku9j+PN9LERM5tQh1B/LUlpBGPFoYBEKBZdGFbgnLD/VUUCcVIIK8y6VoTHK2IakSf5UmHgSN6QgPCOf1KghZS3jqhJTEKDc1CdkFtBWxBV4TwYRUZ5m7emYbEiH9qI8tC1yxi/ylXw7QayPpeQohGROPyMNoYrCl5I+jUrmviZKg1MwQSoUg/g0gF8JOoLfGWJQORTCh3ixSlOOMiNPnaTagjaIKUgdFMmGtvXlIPKNKXi7SfWxsm3EuyJzSc93ZfpZnlLbvJcuXbIHXlu2bHEhxjx8+NBko46ZPn26CzHm169f7i7Mq1evzPLly82GDRtcSDnYUj537pw5evSoC2lw+/Zts2jRIufrLw4fPmyOHz9uZs+e7ULqJSUb2jfrUObgwYMuZDxsMbO9HIMvJ2Xbv8iFiPWxbBAZ00Y8Z+u7COJk/XuMu3XrlntanlIK8uzZM6sMPnfv3rV7881w584ds3HjRudr8OTJE7NkyRLnC/P27Vt7nT9/vr0CAoGVK1faa7O0KtAi2JtH4CEQMAPLjh07XEh3efz4se2Iq1evdiHGvHnzxl6lzRmI6GQxiJvvkDEXItbH1q9f73wNOCPas2eP89VP6YPCxYsXu7tGIRm9165d60IaTJkyxd2Fefr0qVmwYIHzNdL58eOH2b59uwtJI7MFI96uXbvsfdUZpFWBFvHly5fgKTqKeeLECXP27FkX0oBDO/+kt+xI6SMHgKF4Kdnw1SMzu8+pU6dMZr5aRSY9Bopmy9MsoT7mh7UyYFWltIJcvXrVXjnBlel68uTJ9jRTTnWl84eO9GXEl5EJP8LMFmZ/p1AZ1WOQD8px6NAhO3tlNqV7MhbegYULF9prr0C5tm3bNs60omNjQvrfjTQ7UvI+ZkrsVDklG0bq9+/f2/LhkMv379/N7t277XPKwei+atUq668Lv499/vzZ3vt5Zuu2zss8GyELYSeDBSVOFkHseuD3F1UQCgPiEYeFEtmyKPR3GEAWZSFYjPOM+JSHtGKLcBbAvOtvIHQaypYvn9Qh5oS8n3T893yXX0SH8hVisiEdysZz7tnZyi+MCa+TfB8TGfqk6laXzNteaxo6tFtAo8cqJ7DNV3b7ksagUUJQBlw3SQmzCOoVasMypPINyUa2jVOghFXLUxXqwCDoQxliu2p1ybzyjxVjHDlyxC68xaQSWKCnvs3GNGAn5cyZMy4kjqS9YsUKe/XhGeaGmAfd4tOnT5W/Ra/rn1BCsnn06FHhT/LZTcIkJF7MhGs3oQU6a5JJkyaN+6FmnTJvu4KwqLt37561tUUQNCqL8dS32QiASvrbxjEQGOTfJT/yJX/fxu8G1Lnqt+h0Dt/2lkVyyPmdvYiQbOQXwimw61kj3bx5s2PtijLkNxZYB23atMnMmDHDhXRA5m4maTvYsEx5mE3YvWQlp7atwlRLer49zXqG/PK2c7dImQNFUDdMn5gJmYJ8i8xUXzasBbH7q+RVF7IWpS4peXZC5vpNegswS4yMjNit5vyZBqN71aZlh44Z99q1a6W3sRlJ839xmnW0MWcbSvOoglSE7W3ME5QEu/7du3djTL5WFETpHVRBWkRG7uHh4b/nFigNC0zOFpT+pu2L9P8bmDCZrWxPx+WwKnaKrvQfqiBtgNmDNQMn2crEQhWkDbCQHhoa+juL8HOaOs4xlM6jCtImOKRiFjl9+nThz/6V/kEVpE1wSMUscuzYMf1H9wmE7mK1EXavOO1lJtEziImBziBthFlk3759zqdMBHQGaTMs0ufNm2e/p1D6H1UQRUmgJpaiJFAFUZQoxvwLy5UJGkK61XUAAAAASUVORK5CYII=)\n",
        "\n",
        "**Pay attention**: point representation might contains more than two numbers (means m>2)."
      ],
      "metadata": {
        "id": "QGgbwQg5BBk8"
      }
    },
    {
      "cell_type": "code",
      "source": [
        "import numpy as np\n",
        "import scipy.spatial\n",
        "from collections import Counter\n",
        "def euclidean_distance(p1, p2):\n",
        "  point1 = np.array(p1)\n",
        "  point2 = np.array(p2)\n",
        "  sum_vectors = np.sum(np.square(point1 - point2))\n",
        "  return(np.sqrt(sum_vectors))\n",
        "  "
      ],
      "metadata": {
        "id": "6JEOP8Iy9Oed"
      },
      "execution_count": null,
      "outputs": []
    },
    {
      "cell_type": "markdown",
      "source": [
        "Now, let's implement KNeighborsClassifier class.\n",
        "\n",
        "In 'fit' function you have to get the inputs, and prepare the classifier for prediction (think what exactly you have to prepare)\n",
        "\n",
        "In 'predict' fucntion you have to get a test set and return a numpy array contains the classes (that the model predicted) of each element from the test set.\n",
        "\n",
        "We added a few more function declarations that might help you. Fill free to implement them (or not) and to add some more functions.\n",
        "\n",
        "In adition, we've presented a few KNN implementations in class. You are allowed to implement your own algorithm.\n"
      ],
      "metadata": {
        "id": "p0nmKRhmCiZO"
      }
    },
    {
      "cell_type": "code",
      "source": [
        "def most_common(lst):\n",
        "    return max(set(lst), key=lst.count)\n",
        "\n",
        "class KNeighborsClassifier:\n",
        "  def __init__(self, distance_metric=euclidean_distance, n_neighbors=None):\n",
        "    self.k = n_neighbors\n",
        "    self.distance_metric = distance_metric\n",
        "  \n",
        "\n",
        "\n",
        "  def fit(self, x, y):\n",
        "    self.x = x\n",
        "    self.y = y\n",
        "    \n",
        "  def distance(self, X1, X2):\n",
        "   distance = scipy.spatial.distance.euclidean(X1, X2)\n",
        "\n",
        "    \n",
        "  def predict(self, x_test):\n",
        "        final_output = []\n",
        "        for i in range(len(x_test)):\n",
        "            d = []\n",
        "            votes = []\n",
        "            for j in range(len(self.x)):\n",
        "                dist = euclidean_distance(self.x[j] , x_test[i])\n",
        "                d.append([dist, j])\n",
        "            d.sort()\n",
        "            d = d[0:self.k]\n",
        "            for d, j in d:\n",
        "                votes.append(self.y[j])\n",
        "            ans = Counter(votes).most_common(1)[0][0]\n",
        "            final_output.append(ans)\n",
        "         \n",
        "\n",
        "            \n",
        "        return final_output\n",
        "    \n",
        "    \n",
        "  \n",
        "  \n",
        "   \n",
        "\n",
        "  # def nearest_neighbor(self, ...):\n",
        "  #   pass\n",
        "\n"
      ],
      "metadata": {
        "id": "KboWqZLE7zuE"
      },
      "execution_count": null,
      "outputs": []
    },
    {
      "cell_type": "code",
      "source": [
        "def error_rate(y_predict, y_true):\n",
        "  \"\"\"\n",
        "  y_predict: the model's output\n",
        "  y_true: the expected output\n",
        "  \"\"\"\n",
        " \n",
        "  return np.mean(y_predict != y_true)\n",
        " \n",
        "  "
      ],
      "metadata": {
        "id": "Y1XqlDE7BaS-"
      },
      "execution_count": null,
      "outputs": []
    },
    {
      "cell_type": "markdown",
      "source": [
        "**Using KNN**"
      ],
      "metadata": {
        "_uuid": "ae2b399f1a07facca0efbe6932d07ce364503b19",
        "id": "70eV3Bbk6ZWY"
      }
    },
    {
      "cell_type": "markdown",
      "source": [
        "Use the KNeighborsClassifier class you've implemented with n_neighbors=1. Fit this KNN model to the training data."
      ],
      "metadata": {
        "_uuid": "f74b766c7b4c1c903d28801f0d289c3c656e9f40",
        "id": "bucbcM056ZWZ"
      }
    },
    {
      "cell_type": "code",
      "source": [
        "knn = KNeighborsClassifier(euclidean_distance, n_neighbors=1)\n",
        "knn.fit(x_train,y_train)"
      ],
      "metadata": {
        "_uuid": "172f52bf6eb063dc1036e9c9f53cf8b32be30264",
        "trusted": true,
        "id": "HlCwTN6f6ZWa"
      },
      "execution_count": null,
      "outputs": []
    },
    {
      "cell_type": "markdown",
      "source": [
        "**Predictions and Evaluations**"
      ],
      "metadata": {
        "_uuid": "616bada005962d9b485fb28cff6ee51772ae623e",
        "id": "WAfvzL676ZWb"
      }
    },
    {
      "cell_type": "markdown",
      "source": [
        "Use the predict method to predict values using your KNN model and x_test. In addition, create a [confusion matrix](https://www.sciencedirect.com/topics/engineering/confusion-matrix) and a [classification report](https://scikit-learn.org/stable/modules/generated/sklearn.metrics.classification_report.html).\n",
        "\n",
        "Make sure you don't get any errors in this cell."
      ],
      "metadata": {
        "_uuid": "7b2ce93dc57775f9d4648d93b89ca601fd87b14b",
        "id": "uRAZcinr6ZWc"
      }
    },
    {
      "cell_type": "code",
      "source": [
        "pred = knn.predict(x_test)\n",
        "from sklearn.metrics import classification_report,confusion_matrix\n",
        "print(confusion_matrix(y_test,pred))\n",
        "print(classification_report(y_test,pred))"
      ],
      "metadata": {
        "_uuid": "f31fd79b413c45cab4629c9ee9feecd515a05974",
        "trusted": true,
        "id": "Nljusqxg6ZWd",
        "colab": {
          "base_uri": "https://localhost:8080/"
        },
        "outputId": "a11e11e0-17bb-46bd-f2b7-047035cec398"
      },
      "execution_count": null,
      "outputs": [
        {
          "output_type": "stream",
          "name": "stdout",
          "text": [
            "[[3 0 1 2 0 1 2 0 3 1]\n",
            " [0 1 1 0 2 1 3 1 1 0]\n",
            " [0 0 2 0 1 1 4 0 1 0]\n",
            " [0 0 2 0 2 0 3 0 0 0]\n",
            " [2 0 3 1 1 2 7 0 0 0]\n",
            " [0 0 2 0 1 0 2 0 1 0]\n",
            " [1 0 4 0 2 0 7 0 1 0]\n",
            " [1 0 4 0 0 1 1 1 1 0]\n",
            " [3 0 0 0 1 0 1 1 3 0]\n",
            " [1 2 0 0 0 0 1 0 2 0]]\n",
            "              precision    recall  f1-score   support\n",
            "\n",
            "           0       0.27      0.23      0.25        13\n",
            "           1       0.33      0.10      0.15        10\n",
            "           2       0.11      0.22      0.14         9\n",
            "           3       0.00      0.00      0.00         7\n",
            "           4       0.10      0.06      0.08        16\n",
            "           5       0.00      0.00      0.00         6\n",
            "           6       0.23      0.47      0.30        15\n",
            "           7       0.33      0.11      0.17         9\n",
            "           8       0.23      0.33      0.27         9\n",
            "           9       0.00      0.00      0.00         6\n",
            "\n",
            "    accuracy                           0.18       100\n",
            "   macro avg       0.16      0.15      0.14       100\n",
            "weighted avg       0.18      0.18      0.16       100\n",
            "\n"
          ]
        }
      ]
    },
    {
      "cell_type": "markdown",
      "source": [
        "**Choosing a K Value**"
      ],
      "metadata": {
        "_uuid": "2bb7d870a8beaead732e933b26ca2560a635b9c3",
        "id": "R0UxmSd26ZWe"
      }
    },
    {
      "cell_type": "markdown",
      "source": [
        "Implement a for loop in 'find_best_k' function (hint: use KNeighborsClassifier object) that trains various KNN models with different k values, then keep track of the error_rate for each of these models with a list.\n",
        "The function will return the best k, and the error rate of each k as a numpy array."
      ],
      "metadata": {
        "_uuid": "249e09040d35835d5573c8040bf0a6f058243bdd",
        "id": "ZxskqOWf6ZWe"
      }
    },
    {
      "cell_type": "code",
      "source": [
        "\n",
        "MIN_K = 1\n",
        "MAX_K = 15\n",
        "\n",
        "def find_best_k(min_k=1, max_k=15):\n",
        "  output = np.zeros(shape=(max_k-1, 2))\n",
        "  for i in range(min_k, max_k):\n",
        "    knn = KNeighborsClassifier(euclidean_distance, n_neighbors=i)\n",
        "    knn.fit(x_train, y_train)\n",
        "    preds = knn.predict(x_test)\n",
        "    error = error_rate(preds, y_test)\n",
        "    output[i-1] = [i, error]\n",
        "  i = output[:,1].argmin()\n",
        "  best_k = output[i, :][0]\n",
        "  return best_k, output\n",
        "     \n",
        "   \n",
        "\n",
        "  \n",
        "\n",
        "  "
      ],
      "metadata": {
        "_uuid": "1888168e0d4e1b67c8453578c10608b4f4d1064a",
        "collapsed": true,
        "jupyter": {
          "outputs_hidden": true
        },
        "trusted": true,
        "id": "s1Zwd1PB6ZWf"
      },
      "execution_count": null,
      "outputs": []
    },
    {
      "cell_type": "code",
      "source": [
        "best_k, error_rate = find_best_k(min_k=MIN_K, max_k=MAX_K)"
      ],
      "metadata": {
        "id": "hgiv4I1xEof5"
      },
      "execution_count": null,
      "outputs": []
    },
    {
      "cell_type": "markdown",
      "source": [
        "Now create the following plot using the information from your for loop."
      ],
      "metadata": {
        "_uuid": "e0885f54bb197123a46822f9aad5bb5bc2b8e29d",
        "id": "XRnwmDcD6ZWg"
      }
    },
    {
      "cell_type": "code",
      "source": [
        "plt.figure(figsize=(10,6))\n",
        "plt.plot(range(MIN_K,MAX_K),error_rate[:,1],color='blue',linestyle='dashed', marker='o',\n",
        "         markerfacecolor='red', markersize=10)\n",
        "plt.title('Error rate vs K')\n",
        "plt.xlabel('K')\n",
        "plt.ylabel('Error rate')"
      ],
      "metadata": {
        "_uuid": "d4367d0cceb7e8e925d03bddcf7d8a0c744e24eb",
        "trusted": true,
        "id": "e3aBqCrz6ZWg",
        "colab": {
          "base_uri": "https://localhost:8080/",
          "height": 421
        },
        "outputId": "e0efc366-712f-42a2-ad46-cc4bd714dd76"
      },
      "execution_count": null,
      "outputs": [
        {
          "output_type": "execute_result",
          "data": {
            "text/plain": [
              "Text(0, 0.5, 'Error rate')"
            ]
          },
          "metadata": {},
          "execution_count": 126
        },
        {
          "output_type": "display_data",
          "data": {
            "text/plain": [
              "<Figure size 720x432 with 1 Axes>"
            ],
            "image/png": "[encoded data removed]"
          },
          "metadata": {
            "needs_background": "light"
          }
        }
      ]
    },
    {
      "cell_type": "markdown",
      "source": [
        "**Retrain with new K Value**"
      ],
      "metadata": {
        "_uuid": "b8f0fab026198a3713fd349f90f822bbec54bc46",
        "id": "32CvrMLV6ZWh"
      }
    },
    {
      "cell_type": "markdown",
      "source": [
        "Retrain your model with the best K value (up to you to decide what you want) and re-do the classification report and the confusion matrix."
      ],
      "metadata": {
        "_uuid": "71595920cbc4e2b99c48e45685a2c9b7d2bd6eaf",
        "id": "rXPiIZcB6ZWi"
      }
    },
    {
      "cell_type": "code",
      "source": [
        "k=4\n",
        "knn = KNeighborsClassifier(n_neighbors = k)\n",
        "knn.fit(x_train,y_train)\n",
        "pred = knn.predict(x_test)"
      ],
      "metadata": {
        "_uuid": "ef73509be8d89ad176edb3c58e213d2f90ded61e",
        "collapsed": true,
        "jupyter": {
          "outputs_hidden": true
        },
        "trusted": true,
        "id": "D22b6tx36ZWi"
      },
      "execution_count": null,
      "outputs": []
    },
    {
      "cell_type": "code",
      "source": [
        "print(confusion_matrix(y_test,pred))\n",
        "print(classification_report(y_test,pred))"
      ],
      "metadata": {
        "_uuid": "15aa54fc0ea59691e5ec1d5f00c47f6f366f1e15",
        "trusted": true,
        "id": "ltUP04u96ZWj",
        "colab": {
          "base_uri": "https://localhost:8080/"
        },
        "outputId": "bac1fcc2-8123-4930-854a-d8bfdc128368"
      },
      "execution_count": null,
      "outputs": [
        {
          "output_type": "stream",
          "name": "stdout",
          "text": [
            "[[ 2  0  2  1  0  1  3  0  4  0]\n",
            " [ 1  1  2  0  1  0  3  1  1  0]\n",
            " [ 0  0  5  0  0  1  2  0  1  0]\n",
            " [ 0  0  2  0  2  0  3  0  0  0]\n",
            " [ 2  0  3  0  0  0 11  0  0  0]\n",
            " [ 0  0  2  0  1  0  2  0  1  0]\n",
            " [ 1  0  4  0  0  0 10  0  0  0]\n",
            " [ 0  0  5  0  0  1  1  1  1  0]\n",
            " [ 3  0  1  0  0  1  1  0  3  0]\n",
            " [ 1  1  0  0  0  0  2  0  2  0]]\n",
            "              precision    recall  f1-score   support\n",
            "\n",
            "           0       0.20      0.15      0.17        13\n",
            "           1       0.50      0.10      0.17        10\n",
            "           2       0.19      0.56      0.29         9\n",
            "           3       0.00      0.00      0.00         7\n",
            "           4       0.00      0.00      0.00        16\n",
            "           5       0.00      0.00      0.00         6\n",
            "           6       0.26      0.67      0.38        15\n",
            "           7       0.50      0.11      0.18         9\n",
            "           8       0.23      0.33      0.27         9\n",
            "           9       0.00      0.00      0.00         6\n",
            "\n",
            "    accuracy                           0.22       100\n",
            "   macro avg       0.19      0.19      0.15       100\n",
            "weighted avg       0.20      0.22      0.16       100\n",
            "\n"
          ]
        },
        {
          "output_type": "stream",
          "name": "stderr",
          "text": [
            "/usr/local/lib/python3.7/dist-packages/sklearn/metrics/_classification.py:1318: UndefinedMetricWarning: Precision and F-score are ill-defined and being set to 0.0 in labels with no predicted samples. Use `zero_division` parameter to control this behavior.\n",
            "  _warn_prf(average, modifier, msg_start, len(result))\n",
            "/usr/local/lib/python3.7/dist-packages/sklearn/metrics/_classification.py:1318: UndefinedMetricWarning: Precision and F-score are ill-defined and being set to 0.0 in labels with no predicted samples. Use `zero_division` parameter to control this behavior.\n",
            "  _warn_prf(average, modifier, msg_start, len(result))\n",
            "/usr/local/lib/python3.7/dist-packages/sklearn/metrics/_classification.py:1318: UndefinedMetricWarning: Precision and F-score are ill-defined and being set to 0.0 in labels with no predicted samples. Use `zero_division` parameter to control this behavior.\n",
            "  _warn_prf(average, modifier, msg_start, len(result))\n"
          ]
        }
      ]
    },
    {
      "cell_type": "markdown",
      "source": [
        "**:)**"
      ],
      "metadata": {
        "_uuid": "f55ee56ba4ff8850ca413226af4fb78b712ed0ab",
        "id": "XXzD3V_T6ZWj"
      }
    }
  ]
}